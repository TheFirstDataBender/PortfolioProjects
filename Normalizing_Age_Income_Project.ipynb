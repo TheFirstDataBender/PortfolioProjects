{
 "cells": [
  {
   "cell_type": "markdown",
   "id": "2939d6fc",
   "metadata": {},
   "source": [
    "OLUYINKA OGUNDIPE (The First Data Bender)"
   ]
  },
  {
   "cell_type": "markdown",
   "id": "ed2269d9",
   "metadata": {},
   "source": [
    "Task: manually create a dataframe with two variables Age & Income, input 6 records and normalize the data."
   ]
  },
  {
   "cell_type": "code",
   "execution_count": 33,
   "id": "01dba793",
   "metadata": {},
   "outputs": [],
   "source": [
    "import numpy as np\n",
    "import pandas as pd\n",
    "from sklearn import preprocessing \n",
    "from sklearn.preprocessing import StandardScaler\n",
    "from sklearn.model_selection import train_test_split"
   ]
  },
  {
   "cell_type": "code",
   "execution_count": null,
   "id": "b4cc693c",
   "metadata": {},
   "outputs": [],
   "source": [
    "# import preprocessing \n",
    "# Normalizing a data frame in sci-kit learn\n",
    "\n",
    "# scikit-learn: \n",
    "scaler = StandardScaler()\n",
    "norm_df2 = pd.DataFrame(scaler.fit_transform(df), \n",
    "                       index=df.index, columns=df.columns)\n",
    "# the result of the transformation is a numpy array, we convert it into a dataframeprint(norm_df2)\n"
   ]
  },
  {
   "cell_type": "code",
   "execution_count": 2,
   "id": "111cfbed",
   "metadata": {},
   "outputs": [
    {
     "name": "stdout",
     "output_type": "stream",
     "text": [
      "   Age  Income\n",
      "0   25   49000\n",
      "1   56  156000\n",
      "2   65   99000\n",
      "3   32  192000\n",
      "4   41   39000\n",
      "5   49   57000\n"
     ]
    }
   ],
   "source": [
    "# create a container \"data\" for the values we want to put into a the data frame\n",
    "data = {'Age': [25,56,65,32,41,49], 'Income': [49000,156000,99000,192000,39000,57000]}\n",
    "\n",
    "# create a data frame with the data values\n",
    "df = pd.DataFrame(data)\n",
    "\n",
    "# print the data frame\n",
    "print(df)"
   ]
  },
  {
   "cell_type": "code",
   "execution_count": 4,
   "id": "3734c29e",
   "metadata": {},
   "outputs": [
    {
     "name": "stdout",
     "output_type": "stream",
     "text": [
      "        Age    Income\n",
      "0 -1.438597 -0.865431\n",
      "1  0.829022  0.999021\n",
      "2  1.487363  0.005808\n",
      "3 -0.926554  1.626314\n",
      "4 -0.268213 -1.039679\n",
      "5  0.316979 -0.726033\n"
     ]
    }
   ],
   "source": [
    "# create an instance of the StandardScaler class\n",
    "scaler = StandardScaler()\n",
    "\n",
    "# fit the scaler to the data frame\n",
    "scaler.fit(df)\n",
    "\n",
    "# transform the data frame\n",
    "norm_df = scaler.transform(df)\n",
    "\n",
    "# the result of the transformation is a numpy array,we covert it to a data frame\n",
    "norm_df = pd.DataFrame(norm_df, columns = df.columns, index = df.index)\n",
    "\n",
    "\n",
    "# print the normalized data frame\n",
    "print(norm_df)"
   ]
  }
 ],
 "metadata": {
  "kernelspec": {
   "display_name": "Python 3 (ipykernel)",
   "language": "python",
   "name": "python3"
  },
  "language_info": {
   "codemirror_mode": {
    "name": "ipython",
    "version": 3
   },
   "file_extension": ".py",
   "mimetype": "text/x-python",
   "name": "python",
   "nbconvert_exporter": "python",
   "pygments_lexer": "ipython3",
   "version": "3.9.7"
  }
 },
 "nbformat": 4,
 "nbformat_minor": 5
}
